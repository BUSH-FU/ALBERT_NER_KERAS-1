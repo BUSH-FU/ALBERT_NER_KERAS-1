{
 "cells": [
  {
   "cell_type": "code",
   "execution_count": 1,
   "metadata": {},
   "outputs": [
    {
     "name": "stderr",
     "output_type": "stream",
     "text": [
      "Using TensorFlow backend.\n"
     ]
    },
    {
     "name": "stdout",
     "output_type": "stream",
     "text": [
      "WARNING:tensorflow:From D:\\学习\\albert_BiLSTM_CRF\\albert_zh\\graph.py:18: The name tf.logging.set_verbosity is deprecated. Please use tf.compat.v1.logging.set_verbosity instead.\n",
      "\n",
      "WARNING:tensorflow:From D:\\学习\\albert_BiLSTM_CRF\\albert_zh\\graph.py:18: The name tf.logging.DEBUG is deprecated. Please use tf.compat.v1.logging.DEBUG instead.\n",
      "\n"
     ]
    }
   ],
   "source": [
    "# -*- coding: utf-8 -*-\n",
    "import warnings\n",
    "warnings.filterwarnings(\"ignore\")\n",
    "import json\n",
    "import numpy as np\n",
    "import pandas as pd\n",
    "pd.set_option('max_columns', 600)\n",
    "pd.set_option('max_rows', 500)\n",
    "from keras_contrib.layers import CRF\n",
    "from keras_contrib.losses import crf_loss\n",
    "from keras_contrib.metrics import crf_accuracy, crf_viterbi_accuracy\n",
    "from keras.models import Model, Input\n",
    "from keras.layers import Dense, Bidirectional, Dropout, LSTM, TimeDistributed, Masking\n",
    "from keras.utils import to_categorical, plot_model\n",
    "from seqeval.metrics import classification_report\n",
    "import matplotlib.pyplot as plt\n",
    "from data_utils import read_data,data_convert,tag_id,MAX_SEQ_LEN,train_file_path,dev_file_path,test_file_path,id_tag\n",
    "from albert_zh.extract_feature import BertVector"
   ]
  },
  {
   "cell_type": "code",
   "execution_count": 2,
   "metadata": {},
   "outputs": [
    {
     "name": "stdout",
     "output_type": "stream",
     "text": [
      "{'O': 1, 'B-LOC': 2, 'I-LOC': 3, 'B-PER': 4, 'I-PER': 5, 'B-ORG': 6, 'I-ORG': 7} 128 ./data/example.train ./data/example.dev ./data/example.test {1: 'O', 2: 'B-LOC', 3: 'I-LOC', 4: 'B-PER', 5: 'I-PER', 6: 'B-ORG', 7: 'I-ORG'}\n",
      "WARNING:tensorflow:From D:\\学习\\albert_BiLSTM_CRF\\albert_zh\\graph.py:18: The name tf.logging.ERROR is deprecated. Please use tf.compat.v1.logging.ERROR instead.\n",
      "\n"
     ]
    },
    {
     "name": "stderr",
     "output_type": "stream",
     "text": [
      "I:\u001b[33mBERT_VEC\u001b[0m:[graph:opt: 48]:model config: D:\\学习\\albert_BiLSTM_CRF\\albert_zh/albert_tiny\\albert_config_tiny.json\n",
      "I:\u001b[33mBERT_VEC\u001b[0m:[graph:opt: 54]:build graph...\n"
     ]
    },
    {
     "name": "stdout",
     "output_type": "stream",
     "text": [
      "embedding_lookup_factorized. factorized embedding parameterization is used.\n",
      "ln_type: postln\n",
      "old structure of transformer.use: transformer_model,which use post-LN\n"
     ]
    },
    {
     "name": "stderr",
     "output_type": "stream",
     "text": [
      "I:\u001b[33mBERT_VEC\u001b[0m:[graph:opt:128]:load parameters from checkpoint...\n",
      "I:\u001b[33mBERT_VEC\u001b[0m:[graph:opt:130]:freeze...\n",
      "I:\u001b[33mBERT_VEC\u001b[0m:[graph:opt:133]:optimize...\n",
      "I:\u001b[33mBERT_VEC\u001b[0m:[graph:opt:144]:write graph to a tmp file: ./tmp_graph11\n"
     ]
    }
   ],
   "source": [
    "print(tag_id,MAX_SEQ_LEN,train_file_path,dev_file_path,test_file_path,id_tag)\n",
    "#利用ALBERT生成词向量，pooling_strategy池化次略，有【REDUCE_MEAN，REDUCE_MAX，FIRST_TOKEN/CLS_TOKEN,LAST_TOKEN/SEP_TOKEN,NONE】\n",
    "#本次采用NONE，也就是不采用池化策略，原本输出最后一层各个word的词向量；而其它的池化策略都是最终合并生成一个词向量，来代表整个句子的语义\n",
    "bert_model = BertVector(pooling_strategy=\"NONE\", max_seq_len=MAX_SEQ_LEN)\n",
    "#这里的0代理的是队列中的第一个元素，bert将每句话生成的词向量放入到队列中\n",
    "word_encoder = lambda text: bert_model.encode([text])[\"encodes\"][0]"
   ]
  },
  {
   "cell_type": "markdown",
   "metadata": {},
   "source": [
    "### 利用keras构建模型架构"
   ]
  },
  {
   "cell_type": "code",
   "execution_count": 3,
   "metadata": {
    "collapsed": true
   },
   "outputs": [],
   "source": [
    "# Build model\n",
    "def build_model(max_para_length, n_tags):\n",
    "    # Bert Embeddings\n",
    "    bert_output = Input(shape=(max_para_length, 312, ), name=\"bert_output\")\n",
    "    # LSTM model\n",
    "    lstm = Bidirectional(LSTM(units=128, return_sequences=True), name=\"bi_lstm\")(bert_output)\n",
    "    drop = Dropout(0.1, name=\"dropout\")(lstm)\n",
    "    dense = TimeDistributed(Dense(n_tags, activation=\"softmax\"), name=\"time_distributed\")(drop)\n",
    "    crf = CRF(n_tags)\n",
    "    out = crf(dense)\n",
    "    model = Model(inputs=bert_output, outputs=out)\n",
    "    # model.compile(optimizer='adam', loss='categorical_crossentropy', metrics=['accuracy'])\n",
    "    model.compile(loss=crf.loss_function, optimizer='adam', metrics=[crf.accuracy])\n",
    "\n",
    "    # 模型结构总结\n",
    "    model.summary()\n",
    "    #plot_model(model, to_file=\"albert_bi_lstm.png\", show_shapes=True)\n",
    "\n",
    "    return model"
   ]
  },
  {
   "cell_type": "markdown",
   "metadata": {},
   "source": [
    "### 模型训练"
   ]
  },
  {
   "cell_type": "code",
   "execution_count": 4,
   "metadata": {
    "collapsed": true
   },
   "outputs": [],
   "source": [
    "# 模型训练\n",
    "def train_model():\n",
    "    # 读取训练集，验证集\n",
    "    train_x, train_y = data_convert(word_encoder,train_file_path)\n",
    "    dev_x, dev_y = data_convert(word_encoder,dev_file_path)\n",
    "    \n",
    "\n",
    "    # 模型训练\n",
    "    model = build_model(MAX_SEQ_LEN, len(tag_id.keys())+1)\n",
    "    history = model.fit(train_x, train_y, validation_data=(dev_x, dev_y), batch_size=16, epochs=10)\n",
    "\n",
    "    model.save(\"albert_bilstm_crf.h5\")\n",
    "    return model,history\n",
    "    "
   ]
  },
  {
   "cell_type": "code",
   "execution_count": 5,
   "metadata": {},
   "outputs": [
    {
     "name": "stdout",
     "output_type": "stream",
     "text": [
      "sentences length: 20864 \n",
      "last sentence:  思想自由是对自我而言，用中国传统的说法是有所为；兼容并包是指对待他人，要有所不为。\n",
      "start ALBERT encoding\n",
      "end ALBERT encoding\n",
      "sentences length: 2318 \n",
      "last sentence:  良性肿瘤、恶性肿瘤虽然只是一字之差，但两者有根本性的差别。\n",
      "start ALBERT encoding\n",
      "end ALBERT encoding\n",
      "Model: \"model_1\"\n",
      "_________________________________________________________________\n",
      "Layer (type)                 Output Shape              Param #   \n",
      "=================================================================\n",
      "bert_output (InputLayer)     (None, 128, 312)          0         \n",
      "_________________________________________________________________\n",
      "bi_lstm (Bidirectional)      (None, 128, 256)          451584    \n",
      "_________________________________________________________________\n",
      "dropout (Dropout)            (None, 128, 256)          0         \n",
      "_________________________________________________________________\n",
      "time_distributed (TimeDistri (None, 128, 8)            2056      \n",
      "_________________________________________________________________\n",
      "crf_1 (CRF)                  (None, 128, 8)            152       \n",
      "=================================================================\n",
      "Total params: 453,792\n",
      "Trainable params: 453,792\n",
      "Non-trainable params: 0\n",
      "_________________________________________________________________\n",
      "Train on 20864 samples, validate on 2318 samples\n",
      "Epoch 1/10\n",
      "20864/20864 [==============================] - 319s 15ms/step - loss: 0.4774 - crf_viterbi_accuracy: 0.9187 - val_loss: 0.1273 - val_crf_viterbi_accuracy: 0.9592\n",
      "Epoch 2/10\n",
      "20864/20864 [==============================] - 313s 15ms/step - loss: 0.0908 - crf_viterbi_accuracy: 0.9674 - val_loss: 0.0684 - val_crf_viterbi_accuracy: 0.9749\n",
      "Epoch 3/10\n",
      "20864/20864 [==============================] - 313s 15ms/step - loss: 0.0572 - crf_viterbi_accuracy: 0.9765 - val_loss: 0.0478 - val_crf_viterbi_accuracy: 0.9824\n",
      "Epoch 4/10\n",
      "20864/20864 [==============================] - 1286s 62ms/step - loss: 0.0392 - crf_viterbi_accuracy: 0.9842 - val_loss: 0.0365 - val_crf_viterbi_accuracy: 0.9850\n",
      "Epoch 5/10\n",
      "20864/20864 [==============================] - 324s 16ms/step - loss: 0.0286 - crf_viterbi_accuracy: 0.9876 - val_loss: 0.0282 - val_crf_viterbi_accuracy: 0.9874\n",
      "Epoch 6/10\n",
      "20864/20864 [==============================] - 334s 16ms/step - loss: 0.0197 - crf_viterbi_accuracy: 0.9900 - val_loss: 0.0217 - val_crf_viterbi_accuracy: 0.9876\n",
      "Epoch 7/10\n",
      "20864/20864 [==============================] - 334s 16ms/step - loss: 0.0103 - crf_viterbi_accuracy: 0.9913 - val_loss: 0.0122 - val_crf_viterbi_accuracy: 0.9887\n",
      "Epoch 8/10\n",
      "20864/20864 [==============================] - 334s 16ms/step - loss: -8.8549e-04 - crf_viterbi_accuracy: 0.9928 - val_loss: 0.0021 - val_crf_viterbi_accuracy: 0.9894\n",
      "Epoch 9/10\n",
      "20864/20864 [==============================] - 333s 16ms/step - loss: -0.0129 - crf_viterbi_accuracy: 0.9938 - val_loss: -0.0089 - val_crf_viterbi_accuracy: 0.9897\n",
      "Epoch 10/10\n",
      "20864/20864 [==============================] - 333s 16ms/step - loss: -0.0250 - crf_viterbi_accuracy: 0.9946 - val_loss: -0.0193 - val_crf_viterbi_accuracy: 0.9898\n"
     ]
    }
   ],
   "source": [
    "model,history=train_model()"
   ]
  },
  {
   "cell_type": "code",
   "execution_count": 6,
   "metadata": {},
   "outputs": [
    {
     "data": {
      "image/png": "[encoded data removed]",
      "text/plain": [
       "<matplotlib.figure.Figure at 0x2a72a94a048>"
      ]
     },
     "metadata": {},
     "output_type": "display_data"
    }
   ],
   "source": [
    "# 绘制loss和acc图像\n",
    "plt.subplot(2, 1, 1)\n",
    "epochs = len(history.history['loss'])\n",
    "plt.plot(range(epochs), history.history['loss'], label='loss')\n",
    "plt.plot(range(epochs), history.history['val_loss'], label='val_loss')\n",
    "plt.legend()\n",
    "\n",
    "plt.subplot(2, 1, 2)\n",
    "epochs = len(history.history['crf_viterbi_accuracy'])\n",
    "plt.plot(range(epochs), history.history['crf_viterbi_accuracy'], label='crf_viterbi_accuracy')\n",
    "plt.plot(range(epochs), history.history['val_crf_viterbi_accuracy'], label='val_crf_viterbi_accuracy')\n",
    "plt.legend()\n",
    "plt.show()\n",
    "plt.savefig(\"loss_accuracy.png\")"
   ]
  },
  {
   "cell_type": "markdown",
   "metadata": {},
   "source": [
    "### 模型在验证集上的表现"
   ]
  },
  {
   "cell_type": "code",
   "execution_count": 24,
   "metadata": {},
   "outputs": [
    {
     "name": "stdout",
     "output_type": "stream",
     "text": [
      "sentences length: 2318 \n",
      "last sentence:  良性肿瘤、恶性肿瘤虽然只是一字之差，但两者有根本性的差别。\n",
      "start ALBERT encoding\n",
      "end ALBERT encoding\n",
      "(2318, 128, 312) (2318, 128, 8)\n",
      "           precision    recall  f1-score   support\n",
      "\n",
      "      PER     0.9863    0.9773    0.9818       882\n",
      "      LOC     0.9862    0.9484    0.9669      1802\n",
      "      ORG     0.9644    0.9447    0.9545       976\n",
      "\n",
      "micro avg     0.9804    0.9544    0.9672      3660\n",
      "macro avg     0.9804    0.9544    0.9672      3660\n",
      "\n"
     ]
    }
   ],
   "source": [
    "test_x, test_y = data_convert(word_encoder,dev_file_path)\n",
    "print(test_x.shape,test_y.shape)\n",
    "y = np.argmax(model.predict(test_x), axis=2)\n",
    "pred_tags = []\n",
    "for i in range(y.shape[0]):\n",
    "    pred_tags.append([id_tag[id] for id in y[i] if id])\n",
    "# 因为存在预测的标签长度与原来的标注长度不一致的情况，因此需要调整预测的标签\n",
    "test_sents, test_tags = read_data(dev_file_path)\n",
    "final_pred_tags = []\n",
    "final_true_tags=[]\n",
    "for test_tag, pred_tag in zip(test_tags, pred_tags):\n",
    "    if len(test_tag) == len(pred_tag):\n",
    "        final_pred_tags.append(test_tag)\n",
    "        final_true_tags.append(test_tag)\n",
    "    elif len(test_tag) < len(pred_tag):\n",
    "        final_pred_tags.append(pred_tag[:len(test_tag)])\n",
    "        final_true_tags.append(test_tag)\n",
    "    else:\n",
    "        final_pred_tags.append(pred_tag)\n",
    "        final_true_tags.append(test_tag[:len(pred_tag)])\n",
    "\n",
    "# 利用seqeval对测试集进行验证\n",
    "print(classification_report(final_true_tags, final_pred_tags, digits=4))"
   ]
  },
  {
   "cell_type": "markdown",
   "metadata": {},
   "source": [
    "### 模型在测试集上的表现"
   ]
  },
  {
   "cell_type": "code",
   "execution_count": 19,
   "metadata": {},
   "outputs": [
    {
     "name": "stdout",
     "output_type": "stream",
     "text": [
      "sentences length: 4636 \n",
      "last sentence:  因此，村民进行民主选举的心态是在这样一种背景映衬下加以表现的，这无疑给该片增添了几分厚重的历史文化氛围。\n",
      "start ALBERT encoding\n",
      "end ALBERT encoding\n",
      "(4636, 128, 312) (4636, 128, 8)\n",
      "           precision    recall  f1-score   support\n",
      "\n",
      "      PER     0.9861    0.9742    0.9801      1821\n",
      "      LOC     0.9820    0.9593    0.9705      3464\n",
      "      ORG     0.9731    0.9506    0.9617      2167\n",
      "\n",
      "micro avg     0.9804    0.9604    0.9703      7452\n",
      "macro avg     0.9804    0.9604    0.9703      7452\n",
      "\n"
     ]
    }
   ],
   "source": [
    "# 模型在测试集上的表现，预测标签\n",
    "test_x, test_y = data_convert(word_encoder,test_file_path)\n",
    "print(test_x.shape,test_y.shape)\n",
    "y = np.argmax(model.predict(test_x), axis=2)\n",
    "pred_tags = []\n",
    "for i in range(y.shape[0]):\n",
    "    pred_tags.append([id_tag[id] for id in y[i] if id])\n",
    "# 因为存在预测的标签长度与原来的标注长度不一致的情况，因此需要调整预测的标签\n",
    "test_sents, test_tags = read_data(test_file_path)\n",
    "final_pred_tags = []\n",
    "final_true_tags=[]\n",
    "for test_tag, pred_tag in zip(test_tags, pred_tags):\n",
    "    if len(test_tag) == len(pred_tag):\n",
    "        final_pred_tags.append(pred_tag)\n",
    "        final_true_tags.append(test_tag)\n",
    "    elif len(test_tag) < len(pred_tag):\n",
    "        final_pred_tags.append(pred_tag[:len(test_tag)])\n",
    "        final_true_tags.append(test_tag)\n",
    "    else:\n",
    "        final_pred_tags.append(pred_tag)\n",
    "        final_true_tags.append(test_tag[:len(pred_tag)])\n",
    "\n",
    "# 利用seqeval对测试集进行验证\n",
    "print(classification_report(final_true_tags, final_pred_tags, digits=4))"
   ]
  }
 ],
 "metadata": {
  "kernelspec": {
   "display_name": "Python 3",
   "language": "python",
   "name": "python3"
  },
  "language_info": {
   "codemirror_mode": {
    "name": "ipython",
    "version": 3
   },
   "file_extension": ".py",
   "mimetype": "text/x-python",
   "name": "python",
   "nbconvert_exporter": "python",
   "pygments_lexer": "ipython3",
   "version": "3.6.1"
  }
 },
 "nbformat": 4,
 "nbformat_minor": 2
}
